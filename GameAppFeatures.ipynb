{
  "nbformat": 4,
  "nbformat_minor": 0,
  "metadata": {
    "colab": {
      "provenance": [],
      "mount_file_id": "1AdCqnX-iIo-lJSF0C0vEQjK8GgNZXVwa",
      "authorship_tag": "ABX9TyP2C849chikGXja9QHdZuyb",
      "include_colab_link": true
    },
    "kernelspec": {
      "name": "python3",
      "display_name": "Python 3"
    },
    "language_info": {
      "name": "python"
    }
  },
  "cells": [
    {
      "cell_type": "markdown",
      "metadata": {
        "id": "view-in-github",
        "colab_type": "text"
      },
      "source": [
        "<a href=\"https://colab.research.google.com/github/swapnil4549/Game-App-Reviews-Analysis/blob/main/GameAppFeatures.ipynb\" target=\"_parent\"><img src=\"https://colab.research.google.com/assets/colab-badge.svg\" alt=\"Open In Colab\"/></a>"
      ]
    },
    {
      "cell_type": "code",
      "execution_count": null,
      "metadata": {
        "id": "6_XybiAEtW31"
      },
      "outputs": [],
      "source": [
        "import pandas as pd\n",
        "df = pd.read_csv('/content/drive/MyDrive/sentiment approch/GameViolations.csv')\n",
        "df"
      ]
    },
    {
      "cell_type": "code",
      "source": [
        "df['appId'].value_counts() # total number of reviews in each app which contains violations."
      ],
      "metadata": {
        "id": "6COjJGi0zElI",
        "colab": {
          "base_uri": "https://localhost:8080/"
        },
        "outputId": "2602e692-6303-412a-b13f-07da6a3b7b19"
      },
      "execution_count": null,
      "outputs": [
        {
          "output_type": "execute_result",
          "data": {
            "text/plain": [
              "com.riotgames.league.wildrift        549\n",
              "com.activision.callofduty.shooter    539\n",
              "com.ea.gp.apexlegendsmobilefps       514\n",
              "com.nianticlabs.pokemongo            512\n",
              "com.mojang.minecraftpe               473\n",
              "com.rovio.baba                       459\n",
              "com.innersloth.spacemafia            413\n",
              "com.appsomniacs.da2                  410\n",
              "com.feralinteractive.gridas          401\n",
              "com.miHoYo.GenshinImpact             397\n",
              "com.chucklefish.stardewvalley        376\n",
              "com.king.candycrushsaga              373\n",
              "com.tgc.sky.android                  340\n",
              "com.marmalade.monopoly               323\n",
              "com.FireproofStudios.TheRoom4        151\n",
              "Name: appId, dtype: int64"
            ]
          },
          "metadata": {},
          "execution_count": 4
        }
      ]
    },
    {
      "cell_type": "code",
      "source": [
        "import re"
      ],
      "metadata": {
        "id": "Iyjd8BFQHWhg"
      },
      "execution_count": null,
      "outputs": []
    },
    {
      "cell_type": "code",
      "source": [
        "def clean_text(text):\n",
        "   text=re.sub(r\"\\?\", \".\", text)\n",
        "   text=re.sub(r\"\\!\", \".\", text)\n",
        "   text=re.sub(r'([.])\\1+', r'\\1', text)\n",
        "   rexp=r\"\\.(?=[A-Za-z]{1,15})\"\n",
        "   text=re.sub(rexp, \". \", text)\n",
        "   return text"
      ],
      "metadata": {
        "id": "v_k0pR9CHGxE"
      },
      "execution_count": null,
      "outputs": []
    },
    {
      "cell_type": "code",
      "source": [
        "df['CleanedReview'] = df['content'].apply(clean_text)\n",
        "df"
      ],
      "metadata": {
        "id": "tX5bikJnHNvo"
      },
      "execution_count": null,
      "outputs": []
    },
    {
      "cell_type": "code",
      "source": [
        "!pip install nltk\n",
        "import nltk\n",
        "nltk.download('punkt')\n",
        "nltk.download('wordnet')\n",
        "nltk.download('omw-1.4')\n",
        "nltk.download('averaged_perceptron_tagger')\n",
        "from nltk.corpus import stopwords\n",
        "nltk.download('stopwords')\n",
        "stop = stopwords.words('english')\n",
        "from nltk.stem import WordNetLemmatizer\n",
        "from nltk.tokenize import word_tokenize\n",
        "from nltk.corpus import wordnet"
      ],
      "metadata": {
        "id": "yYocpAiSJGPa"
      },
      "execution_count": null,
      "outputs": []
    },
    {
      "cell_type": "code",
      "source": [
        "stop.extend(['game','app','fix','problem','play','please','apex','call','duty','candy','crush','mini','militia','angry','bird'])"
      ],
      "metadata": {
        "id": "v-xHFIIfz6wn"
      },
      "execution_count": null,
      "outputs": []
    },
    {
      "cell_type": "code",
      "source": [
        "stop"
      ],
      "metadata": {
        "id": "7F2fp1Aj0ZWo"
      },
      "execution_count": null,
      "outputs": []
    },
    {
      "cell_type": "code",
      "source": [
        "def lemma_words_pos_filtered(text):\n",
        "  word_list=[]\n",
        "  lemmatizer = WordNetLemmatizer()\n",
        "  tokens = nltk.word_tokenize(text)\n",
        "  pos_tokens=nltk.pos_tag(tokens)\n",
        "  for pos in pos_tokens:\n",
        "    if (pos[1].startswith('N')):\n",
        "      word_list=word_list+[lemmatizer.lemmatize(pos[0].lower(), wordnet.NOUN)]\n",
        "    if (pos[1].startswith('V')):\n",
        "      word_list=word_list+[lemmatizer.lemmatize(pos[0].lower(), wordnet.VERB)]\n",
        "    if (pos[1].startswith('J')):\n",
        "      word_list=word_list+[lemmatizer.lemmatize(pos[0].lower(), wordnet.ADJ)]\n",
        "    word_list=[word for word in word_list if word not in stop]\n",
        "  return  \" \".join(word_list)"
      ],
      "metadata": {
        "id": "teD3_jOnI5VG"
      },
      "execution_count": null,
      "outputs": []
    },
    {
      "cell_type": "code",
      "source": [
        "df['lemma_words_pos_filtered'] =df['CleanedReview'].apply(lemma_words_pos_filtered)"
      ],
      "metadata": {
        "id": "aB2UV3YkJ2oI"
      },
      "execution_count": null,
      "outputs": []
    },
    {
      "cell_type": "code",
      "source": [
        "from nltk.collocations import *"
      ],
      "metadata": {
        "id": "79EOFuj-OK24"
      },
      "execution_count": null,
      "outputs": []
    },
    {
      "cell_type": "code",
      "source": [
        "bigram_measures = nltk.collocations.BigramAssocMeasures()\n",
        "finder = BigramCollocationFinder.from_words(\" \".join(df['lemma_words_pos_filtered']).split())\n",
        "#keeping bigrams that occur at least 2 times\n",
        "# finder.apply_freq_filter(2)\n",
        "bigram_list_tuples=finder.nbest(bigram_measures.likelihood_ratio, 50)"
      ],
      "metadata": {
        "id": "7dDgBFigN3WC"
      },
      "execution_count": null,
      "outputs": []
    },
    {
      "cell_type": "code",
      "source": [
        "bigram_list_tuples"
      ],
      "metadata": {
        "id": "4HBFmJZqOnit",
        "colab": {
          "base_uri": "https://localhost:8080/"
        },
        "outputId": "5fdf929f-3a97-4d2a-b04a-12be4adb7fc8"
      },
      "execution_count": null,
      "outputs": [
        {
          "output_type": "execute_result",
          "data": {
            "text/plain": [
              "[('give', 'star'),\n",
              " ('new', 'update'),\n",
              " ('spend', 'money'),\n",
              " ('*', '*'),\n",
              " ('wild', 'rift'),\n",
              " ('battle', 'royale'),\n",
              " ('internet', 'connection'),\n",
              " ('black', 'screen'),\n",
              " ('waste', 'time'),\n",
              " ('old', 'version'),\n",
              " ('waste', 'money'),\n",
              " ('recent', 'update'),\n",
              " ('last', 'update'),\n",
              " ('battle', 'pas'),\n",
              " ('battle', 'league'),\n",
              " ('frame', 'rate'),\n",
              " ('controller', 'support'),\n",
              " ('long', 'time'),\n",
              " ('loading', 'screen'),\n",
              " ('match', 'making'),\n",
              " ('late', 'update'),\n",
              " ('watch', 'ad'),\n",
              " ('get', 'stick'),\n",
              " ('frame', 'drop'),\n",
              " ('quick', 'chat'),\n",
              " ('uninstall', 'reinstall'),\n",
              " ('many', 'time'),\n",
              " ('customer', 'service'),\n",
              " ('get', 'rid'),\n",
              " ('fps', 'drop'),\n",
              " ('keep', 'crash'),\n",
              " ('ranked', 'match'),\n",
              " ('battle', 'royal'),\n",
              " ('work', 'fine'),\n",
              " ('make', 'sense'),\n",
              " ('multiple', 'time'),\n",
              " ('pc', 'version'),\n",
              " ('stardew', 'valley'),\n",
              " ('hide', 'seek'),\n",
              " (\"'s\", 'fun'),\n",
              " ('daily', 'challenge'),\n",
              " (\"'ve\", 'try'),\n",
              " ('tower', 'fortune'),\n",
              " ('dont', 'know'),\n",
              " ('microsoft', 'account'),\n",
              " ('gold', 'bar'),\n",
              " ('touch', 'control'),\n",
              " ('dice', 'roll'),\n",
              " ('cut', 'scene'),\n",
              " ('uninstalled', 'reinstall')]"
            ]
          },
          "metadata": {},
          "execution_count": 13
        }
      ]
    },
    {
      "cell_type": "code",
      "source": [
        "#to keep only unique tuples\n",
        "def unique_tuples(list_of_tuples):\n",
        "     list_ = [tuple(sorted(t)) for t in list_of_tuples]\n",
        "     list_ = list(set(list_))\n",
        "     return list_\n",
        "bigram_features=unique_tuples(bigram_list_tuples)\n",
        "length_features2=len(bigram_features)"
      ],
      "metadata": {
        "id": "LJrMxuXMPwdJ"
      },
      "execution_count": null,
      "outputs": []
    },
    {
      "cell_type": "code",
      "source": [
        "bigram_features"
      ],
      "metadata": {
        "id": "QMW5VVQtPz14",
        "colab": {
          "base_uri": "https://localhost:8080/"
        },
        "outputId": "6ffcd645-9949-41a8-f1f0-b758cffdf825"
      },
      "execution_count": null,
      "outputs": [
        {
          "output_type": "execute_result",
          "data": {
            "text/plain": [
              "[('fortune', 'tower'),\n",
              " ('time', 'waste'),\n",
              " ('loading', 'screen'),\n",
              " ('account', 'microsoft'),\n",
              " ('battle', 'pas'),\n",
              " ('dice', 'roll'),\n",
              " ('customer', 'service'),\n",
              " (\"'ve\", 'try'),\n",
              " ('battle', 'league'),\n",
              " ('chat', 'quick'),\n",
              " ('drop', 'fps'),\n",
              " ('cut', 'scene'),\n",
              " ('give', 'star'),\n",
              " ('battle', 'royal'),\n",
              " ('late', 'update'),\n",
              " ('last', 'update'),\n",
              " ('recent', 'update'),\n",
              " ('hide', 'seek'),\n",
              " ('match', 'ranked'),\n",
              " ('stardew', 'valley'),\n",
              " ('dont', 'know'),\n",
              " ('get', 'stick'),\n",
              " ('making', 'match'),\n",
              " ('get', 'rid'),\n",
              " ('*', '*'),\n",
              " ('controller', 'support'),\n",
              " ('black', 'screen'),\n",
              " ('battle', 'royale'),\n",
              " ('old', 'version'),\n",
              " ('drop', 'frame'),\n",
              " ('connection', 'internet'),\n",
              " ('many', 'time'),\n",
              " ('ad', 'watch'),\n",
              " ('reinstall', 'uninstall'),\n",
              " ('new', 'update'),\n",
              " ('crash', 'keep'),\n",
              " ('frame', 'rate'),\n",
              " (\"'s\", 'fun'),\n",
              " ('reinstall', 'uninstalled'),\n",
              " ('bar', 'gold'),\n",
              " ('money', 'waste'),\n",
              " ('make', 'sense'),\n",
              " ('pc', 'version'),\n",
              " ('multiple', 'time'),\n",
              " ('fine', 'work'),\n",
              " ('challenge', 'daily'),\n",
              " ('long', 'time'),\n",
              " ('money', 'spend'),\n",
              " ('control', 'touch'),\n",
              " ('rift', 'wild')]"
            ]
          },
          "metadata": {},
          "execution_count": 15
        }
      ]
    },
    {
      "cell_type": "code",
      "source": [
        "def findbigramsintext(text):\n",
        "  mylist=nltk.word_tokenize(text)\n",
        "  list1=[x for x in mylist]\n",
        "  feature_list = []\n",
        "  for i in range(length_features2):\n",
        "    # In each iteration, add an empty list to the main list\n",
        "    feature_list.append([])\n",
        "  i=0\n",
        "# bigram_features is the list of unique set of bigrams found after collocation\n",
        "  for l in bigram_features:\n",
        "    list2=[x for x in l]\n",
        "    result =  all(elem in list1  for elem in list2)\n",
        "    if result:\n",
        "      feature_list[i].append(' '.join(list2))\n",
        "      i=i+1\n",
        "  return feature_list"
      ],
      "metadata": {
        "id": "jyx5W1v9QCEP"
      },
      "execution_count": null,
      "outputs": []
    },
    {
      "cell_type": "code",
      "source": [
        "df['bigram_list'] = df['lemma_words_pos_filtered'].apply(findbigramsintext)"
      ],
      "metadata": {
        "id": "ZhguWCkvQvcj"
      },
      "execution_count": null,
      "outputs": []
    },
    {
      "cell_type": "code",
      "source": [
        "df['bigram_list']"
      ],
      "metadata": {
        "colab": {
          "base_uri": "https://localhost:8080/"
        },
        "id": "81pMbOVS4rMn",
        "outputId": "0d90ed9b-18a3-48d6-a451-24469187f395"
      },
      "execution_count": null,
      "outputs": [
        {
          "output_type": "execute_result",
          "data": {
            "text/plain": [
              "0       [['ve try], [give star], [crash keep], [], [],...\n",
              "1       [[battle royal], [], [], [], [], [], [], [], [...\n",
              "2       [[], [], [], [], [], [], [], [], [], [], [], [...\n",
              "3       [[drop frame], [frame rate], [], [], [], [], [...\n",
              "4       [[], [], [], [], [], [], [], [], [], [], [], [...\n",
              "                              ...                        \n",
              "6225    [[long time], [], [], [], [], [], [], [], [], ...\n",
              "6226    [[get stick], [], [], [], [], [], [], [], [], ...\n",
              "6227    [[], [], [], [], [], [], [], [], [], [], [], [...\n",
              "6228    [[], [], [], [], [], [], [], [], [], [], [], [...\n",
              "6229    [[], [], [], [], [], [], [], [], [], [], [], [...\n",
              "Name: bigram_list, Length: 6230, dtype: object"
            ]
          },
          "metadata": {},
          "execution_count": 18
        }
      ]
    },
    {
      "cell_type": "code",
      "source": [
        "def keepnonempty(list1):\n",
        "  mylist= [x for x in list1 if x != []]\n",
        "  return mylist\n",
        "def flatten_list(row_list):\n",
        "  l = [item for inner_list in row_list for item in inner_list]\n",
        "  return l"
      ],
      "metadata": {
        "id": "5qkIv6u8RQBA"
      },
      "execution_count": null,
      "outputs": []
    },
    {
      "cell_type": "code",
      "source": [
        "df['bigrams']=df['bigram_list'].apply(keepnonempty)\n",
        "df['bigrams']=df['bigrams'].apply(flatten_list)"
      ],
      "metadata": {
        "id": "QfmxWxOiSEhX"
      },
      "execution_count": null,
      "outputs": []
    },
    {
      "cell_type": "code",
      "source": [
        "df['bigrams']"
      ],
      "metadata": {
        "colab": {
          "base_uri": "https://localhost:8080/"
        },
        "id": "ZnIAu8dDSG1a",
        "outputId": "142dcfb0-bfaf-4b32-f4a3-1647067fdaf8"
      },
      "execution_count": null,
      "outputs": [
        {
          "output_type": "execute_result",
          "data": {
            "text/plain": [
              "0       ['ve try, give star, crash keep]\n",
              "1                         [battle royal]\n",
              "2                                     []\n",
              "3               [drop frame, frame rate]\n",
              "4                                     []\n",
              "                      ...               \n",
              "6225                         [long time]\n",
              "6226                         [get stick]\n",
              "6227                                  []\n",
              "6228                                  []\n",
              "6229                                  []\n",
              "Name: bigrams, Length: 6230, dtype: object"
            ]
          },
          "metadata": {},
          "execution_count": 21
        }
      ]
    },
    {
      "cell_type": "code",
      "source": [
        "df.to_csv('GameViolationsFeaturesNew.csv', index=None, header=True)"
      ],
      "metadata": {
        "id": "WULyO2fPS3Ma"
      },
      "execution_count": null,
      "outputs": []
    }
  ]
}